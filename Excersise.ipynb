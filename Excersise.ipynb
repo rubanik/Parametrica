{
 "cells": [
  {
   "cell_type": "code",
   "execution_count": null,
   "metadata": {},
   "outputs": [],
   "source": [
    "import re"
   ]
  },
  {
   "cell_type": "code",
   "execution_count": null,
   "metadata": {},
   "outputs": [],
   "source": [
    "pattern = 'phone'\n",
    "text = \"The person's phone number is 408-555-1234. Call soon!\""
   ]
  },
  {
   "cell_type": "code",
   "execution_count": null,
   "metadata": {},
   "outputs": [],
   "source": [
    "re.search(pattern,text)"
   ]
  },
  {
   "cell_type": "code",
   "execution_count": null,
   "metadata": {},
   "outputs": [],
   "source": [
    "pattern = 'NOT IN TEXT'"
   ]
  },
  {
   "cell_type": "code",
   "execution_count": null,
   "metadata": {},
   "outputs": [],
   "source": [
    "re.search(pattern,text)"
   ]
  },
  {
   "cell_type": "code",
   "execution_count": null,
   "metadata": {},
   "outputs": [],
   "source": [
    "pattern = 'phone'"
   ]
  },
  {
   "cell_type": "code",
   "execution_count": null,
   "metadata": {},
   "outputs": [],
   "source": [
    "match = re.search(pattern,text)"
   ]
  },
  {
   "cell_type": "code",
   "execution_count": null,
   "metadata": {},
   "outputs": [],
   "source": [
    "match.span()"
   ]
  },
  {
   "cell_type": "code",
   "execution_count": null,
   "metadata": {},
   "outputs": [],
   "source": [
    "text = \"my phone is a new phone\""
   ]
  },
  {
   "cell_type": "code",
   "execution_count": null,
   "metadata": {},
   "outputs": [],
   "source": [
    "matches = re.findall(pattern,text)"
   ]
  },
  {
   "cell_type": "code",
   "execution_count": null,
   "metadata": {},
   "outputs": [],
   "source": [
    "type(matches)"
   ]
  },
  {
   "cell_type": "code",
   "execution_count": null,
   "metadata": {},
   "outputs": [],
   "source": [
    "matches"
   ]
  },
  {
   "cell_type": "code",
   "execution_count": null,
   "metadata": {},
   "outputs": [],
   "source": [
    "[match.group() for match in re.finditer(pattern,text)]"
   ]
  },
  {
   "cell_type": "code",
   "execution_count": null,
   "metadata": {},
   "outputs": [],
   "source": [
    "match.group()"
   ]
  },
  {
   "cell_type": "code",
   "execution_count": null,
   "metadata": {},
   "outputs": [],
   "source": []
  },
  {
   "cell_type": "code",
   "execution_count": null,
   "metadata": {},
   "outputs": [],
   "source": [
    "phone = re.search(r'\\d\\d\\d-\\d\\d\\d-\\d\\d\\d\\d', text)"
   ]
  },
  {
   "cell_type": "code",
   "execution_count": null,
   "metadata": {},
   "outputs": [],
   "source": [
    "phone.group()"
   ]
  },
  {
   "cell_type": "code",
   "execution_count": null,
   "metadata": {},
   "outputs": [],
   "source": [
    "text = '.MDD_a_bArrW4000[1877]'"
   ]
  },
  {
   "cell_type": "code",
   "execution_count": null,
   "metadata": {},
   "outputs": [],
   "source": [
    "item = 1877"
   ]
  },
  {
   "cell_type": "code",
   "execution_count": null,
   "metadata": {},
   "outputs": [],
   "source": [
    "pattern = rf\".MDD_a_bArrW\\d{{4}}\\[{item}\\]\"\n",
    "print(pattern)"
   ]
  },
  {
   "cell_type": "code",
   "execution_count": null,
   "metadata": {},
   "outputs": [],
   "source": [
    "match = re.search(pattern,text)"
   ]
  },
  {
   "cell_type": "code",
   "execution_count": null,
   "metadata": {},
   "outputs": [],
   "source": [
    "import re"
   ]
  },
  {
   "cell_type": "code",
   "execution_count": null,
   "metadata": {},
   "outputs": [],
   "source": [
    "def search_variable(data : list, var_name : str) -> str:\n",
    "    pattern = rf\".MDD_a_bArr\\D\\d{{4}}\\[{var_name}\\]\"\n",
    "    if re.search(pattern,data):\n",
    "        return True"
   ]
  },
  {
   "cell_type": "code",
   "execution_count": null,
   "metadata": {},
   "outputs": [],
   "source": [
    "search_variable(text,1877)"
   ]
  },
  {
   "cell_type": "code",
   "execution_count": null,
   "metadata": {},
   "outputs": [],
   "source": [
    "re.search(r\"man|woman\", \"This woman was there\")"
   ]
  },
  {
   "cell_type": "code",
   "execution_count": null,
   "metadata": {},
   "outputs": [],
   "source": [
    "re.findall(r'.at', 'The cat in the hat sat here')"
   ]
  },
  {
   "cell_type": "code",
   "execution_count": null,
   "metadata": {},
   "outputs": [],
   "source": [
    "re.findall(r'\\S+at', 'The bat went splat')"
   ]
  },
  {
   "cell_type": "code",
   "execution_count": null,
   "metadata": {},
   "outputs": [],
   "source": [
    "re.findall(r'\\d$','This ends with a number 2')"
   ]
  },
  {
   "cell_type": "code",
   "execution_count": null,
   "metadata": {},
   "outputs": [],
   "source": [
    "re.findall(r'^\\d','1 us the lonekiest number')"
   ]
  },
  {
   "cell_type": "code",
   "execution_count": null,
   "metadata": {},
   "outputs": [],
   "source": [
    "phrase = \"there are 3 numbers 34 inside 5 this sentence.\""
   ]
  },
  {
   "cell_type": "code",
   "execution_count": null,
   "metadata": {},
   "outputs": [],
   "source": [
    "re.findall(r'[^\\d]',phrase)"
   ]
  },
  {
   "cell_type": "code",
   "execution_count": null,
   "metadata": {},
   "outputs": [],
   "source": [
    "re.findall(r'[^\\d]+',phrase)"
   ]
  },
  {
   "cell_type": "code",
   "execution_count": null,
   "metadata": {},
   "outputs": [],
   "source": [
    "test_phrase = 'This is a string! But it has punctuation. How can we remove it?'"
   ]
  },
  {
   "cell_type": "code",
   "execution_count": null,
   "metadata": {},
   "outputs": [],
   "source": [
    "clean = ' '.join(re.findall(r'[^!.? ]+',test_phrase))"
   ]
  },
  {
   "cell_type": "code",
   "execution_count": null,
   "metadata": {},
   "outputs": [],
   "source": [
    "clean"
   ]
  },
  {
   "cell_type": "code",
   "execution_count": null,
   "metadata": {},
   "outputs": [],
   "source": [
    "re.search(r'cat|dog', 'The cat is here')"
   ]
  },
  {
   "cell_type": "code",
   "execution_count": null,
   "metadata": {},
   "outputs": [],
   "source": [
    "re.findall(r'..at','The cat in the hat is sat here')"
   ]
  },
  {
   "cell_type": "code",
   "execution_count": null,
   "metadata": {},
   "outputs": [],
   "source": [
    "3"
   ]
  },
  {
   "cell_type": "code",
   "execution_count": null,
   "metadata": {},
   "outputs": [],
   "source": [
    "def func_one(n):\n",
    "    return [str(num) for num in range(n)]"
   ]
  },
  {
   "cell_type": "code",
   "execution_count": null,
   "metadata": {},
   "outputs": [],
   "source": [
    "func_one(10)"
   ]
  },
  {
   "cell_type": "code",
   "execution_count": null,
   "metadata": {},
   "outputs": [],
   "source": [
    "def func_two(n):\n",
    "    return list(map(str,range(n)))"
   ]
  },
  {
   "cell_type": "code",
   "execution_count": null,
   "metadata": {},
   "outputs": [],
   "source": [
    "func_two(10)"
   ]
  },
  {
   "cell_type": "code",
   "execution_count": null,
   "metadata": {},
   "outputs": [],
   "source": [
    "import time"
   ]
  },
  {
   "cell_type": "code",
   "execution_count": null,
   "metadata": {},
   "outputs": [],
   "source": [
    "#current time before\n",
    "start_time = time.time()\n",
    "#run code\n",
    "result =func_two(100000000)\n",
    "#current time after running code\n",
    "end_time = time.time()\n",
    "# eldpsed time\n",
    "elapsed_time = end_time - start_time\n",
    "\n",
    "print(elapsed_time)"
   ]
  },
  {
   "cell_type": "code",
   "execution_count": null,
   "metadata": {},
   "outputs": [],
   "source": [
    "import datetime\n",
    "\n",
    "class TimeStamp:\n",
    "    \"\"\"\n",
    "    Обернул в класс методы которые возвращают timestamp\n",
    "    Может вернуть дату + время , а может только время\n",
    "    \"\"\"\n",
    "    def get_time_stamp(self) -> str:\n",
    "        return datetime.datetime.today().strftime('%H:%M:%S')\n",
    "\n",
    "    def get_datetime_stamp(self) -> str:\n",
    "        return datetime.datetime.today().strftime('%c')\n",
    "\n",
    "\n",
    "class PlcVariable:\n",
    "    \"\"\"\n",
    "    This class contains plc.variable information:\n",
    "    path, status, value, name.\n",
    "    \"\"\"\n",
    "\n",
    "    def __init__(self,name:str,value:int,plc) -> None:\n",
    "        self.name = name\n",
    "        self.value = value\n",
    "        self.plc = plc\n",
    "        self.history = [self.value]\n",
    "\n",
    "\n",
    "    def __str__(self) -> str:\n",
    "        return f\"Name: {self.name}, Value: {self.value}\"\n",
    "\n",
    "\n",
    "    def diff_checking(func):\n",
    "        \"\"\" Декоратор в котором сверяется прошлое значение переменной и нынешнее\"\"\"\n",
    "        def checnking(self):\n",
    "            prev_value = self.value\n",
    "            func(self)\n",
    "            if prev_value != self.value:\n",
    "                print(f'{TimeStamp().get_time_stamp()} - Value of {self.name} has been changed from {prev_value} to {self.value}')\n",
    "                self.history.append(self.value) # Добавляем новое значение в history, типа отслеживаем изменение\n",
    "                print(f'History: {self.history}<--Now')\n",
    "        return checnking\n",
    "\n",
    "\n",
    "    def get_name(self):\n",
    "        return self.name\n",
    "\n",
    "\n",
    "    def get_value(self):\n",
    "        return self.value\n",
    "\n",
    "    @diff_checking\n",
    "    def update_value(self):\n",
    "        self.value = self.plc.read_by_name(self.name,pyads.PLCTYPE_INT)  \n",
    "\n",
    "\n",
    "class VariableContainer:\n",
    "    \"\"\"\n",
    "    В контейнер собираем все переменные. Обновляем их и проверяем статус.\n",
    "    \"\"\"\n",
    "    def __init__(self,plc) -> None:\n",
    "        self.container = []\n",
    "        self.plc = plc\n",
    "\n",
    "    def __str__(self) -> str:\n",
    "        \"\"\" Container str representation \"\"\"\n",
    "        return f'Container:\\n {self.container}'\n",
    "\n",
    "    def get_names(self)-> list:\n",
    "        \"\"\" Return a list of variables names\\paths are contained in the container \"\"\"\n",
    "        return [variable.name for variable in self.container]\n",
    "\n",
    "    def add_to_container(self,plc_variable):\n",
    "        \"\"\" Add new PlcVariable instance into container\"\"\"\n",
    "        self.container.append(plc_variable)\n",
    "\n",
    "    def show_container(self) -> None:\n",
    "        \"\"\"\n",
    "        Print the contents of the container\n",
    "        It looks like: \"'Name' 100\"\n",
    "        \"\"\"\n",
    "        for plc_variable in self.container:\n",
    "            print(plc_variable.name,plc_variable.value)\n",
    "    \n",
    "    def update_container(self):\n",
    "        \"\"\"\n",
    "        ***NOT USED***\n",
    "        Refresh all values in the container's PLC variables\n",
    "        Use pyads.Connection.read_list_by_name - method\n",
    "        But may be it's better to read values from the plc one by one.\n",
    "        TODO: check it. Compare these two ways.\n",
    "        \"\"\"\n",
    "        if self.container:\n",
    "            values = self.plc.read_list_by_name(container.get_names())\n",
    "            self.container = []\n",
    "            for name in values:\n",
    "                self.add_to_container(PlcVariable(\n",
    "                                        name=name,\n",
    "                                        value=values[name],\n",
    "                                        plc=self.plc))\n",
    "            return self.container\n",
    "    \n",
    "    def update_variables(self)-> None:\n",
    "        \"\"\" Update all the conteiner's variables one by one with PlcVariable.update_value()\"\"\"\n",
    "        if self.container:\n",
    "            for item in self.container:\n",
    "                item.update_value()\n",
    "\n",
    "\n",
    "class CenterLine:\n",
    "    def __init__(self,name,setpoint,plc_variable : PlcVariable, maximum : int=None, minimum : int=None) -> None:\n",
    "        self.name = name\n",
    "        self.setpoint = setpoint\n",
    "        self.plc_variable = plc_variable \n",
    "        self.status = False\n",
    "\n",
    "        if not maximum and not minimum:\n",
    "            self.maximum = self.setpoint\n",
    "            self.minimum = self.setpoint   # Если не задали пределы, то пределы пусть будут равны значению.\n",
    "        else:\n",
    "            self.maximum = maximum\n",
    "            self.minimum = minimum\n",
    "\n",
    "        self._status()\n",
    "\n",
    "    def __str__(self)-> str:\n",
    "        return f\"CL-'{self.name}'.Setpoint-{self.setpoint}. PLC Value-{self.get_plc_value()}. Status-{self.get_str_status()}\"\n",
    "    \n",
    "\n",
    "    def get_plc_value(self)-> int:\n",
    "        return int(self.plc_variable.value)\n",
    "\n",
    "\n",
    "    def _status(self) -> None:\n",
    "        if self.get_plc_value() == self.setpoint or self.in_range():\n",
    "            self.status = True\n",
    "        else:\n",
    "            self.status = False\n",
    "\n",
    "\n",
    "    def get_str_status(self) -> str:\n",
    "        if self.status: return 'OK'\n",
    "        else: return 'NOK'\n",
    "\n",
    "\n",
    "    def in_range(self) -> bool:\n",
    "        return self.minimum <= self.get_plc_value() <= self.maximum        \n",
    "\n",
    "position_var = PlcVariable('MAIN/POSITION',100,plc)\n",
    "cl = CenterLine('Position',100,position_var,minimum=90,maximum=105)\n",
    "print(cl)\n",
    "position_var.value =88\n",
    "cl._status()\n",
    "print(cl)\n",
    "position_var.value = 103\n",
    "cl._status()\n",
    "print(cl)\n",
    "\n",
    "       "
   ]
  },
  {
   "cell_type": "code",
   "execution_count": null,
   "metadata": {},
   "outputs": [],
   "source": [
    "class CenterLine:\n",
    "    def __init__(self,name,setpoint,plc_variable : PlcVariable, maximum : int=None, minimum : int=None) -> None:\n",
    "        self.name = name\n",
    "        self.setpoint = setpoint\n",
    "        self.plc_variable = plc_variable \n",
    "\n",
    "        if not maximum and not minimum:\n",
    "            self.maximum = self.setpoint\n",
    "            self.minimum = self.setpoint   # Если не задали пределы, то пределы пусть будут равны значению.\n",
    "        else:\n",
    "            self.maximum = maximum\n",
    "            self.minimum = minimum\n",
    "\n",
    "        self.status = self.set_status()\n",
    "\n",
    "    def __str__(self):\n",
    "        return f'CL - {self.name}.Setpoint Value - {self.setpoint}. PLC Value - {self.get_plc_value()}. Status - {self.get_str_status()} '\n",
    "    \n",
    "\n",
    "    def get_plc_value(self):\n",
    "        return int(self.plc_variable.value)\n",
    "\n",
    "\n",
    "    def set_status(self):\n",
    "        if self.get_plc_value() == self.setpoint or self.in_range():\n",
    "            self.status = True\n",
    "        else:\n",
    "            self.status = False\n",
    "\n",
    "\n",
    "    def get_str_status(self):\n",
    "        if self.status: return 'OK'\n",
    "        else: return 'NOK'\n",
    "\n",
    "\n",
    "    def in_range(self):\n",
    "        return self.minimum <= self.get_plc_value() <= self.maximum\n",
    "                \n"
   ]
  },
  {
   "cell_type": "code",
   "execution_count": null,
   "metadata": {},
   "outputs": [],
   "source": [
    "position_var = PlcVariable('MAIN/POSITION',100,plc)\n",
    "cl = CenterLine('Position',100,position_var,minimum=90,maximum=105)\n",
    "print(cl)\n",
    "position_var.value =88\n",
    "cl.set_status()\n",
    "print(cl)\n",
    "\n"
   ]
  },
  {
   "cell_type": "code",
   "execution_count": null,
   "metadata": {},
   "outputs": [],
   "source": [
    "def get_var_list(plc)-> list: \n",
    "    try:\n",
    "        symbols=plc.get_all_symbols()\n",
    "        variables = []\n",
    "\n",
    "        for s in symbols:\n",
    "            if s.name[0] != '.':\n",
    "                variables.append(s.name)\n",
    "\n",
    "        return variables\n",
    "    except:\n",
    "        print('He have an error while we read stuff')\n"
   ]
  },
  {
   "cell_type": "code",
   "execution_count": null,
   "metadata": {},
   "outputs": [],
   "source": [
    "def get_vars_from_plc(plc,var_list) -> list:\n",
    "    return plc.read_list_by_name(var_list)"
   ]
  },
  {
   "cell_type": "code",
   "execution_count": null,
   "metadata": {},
   "outputs": [],
   "source": [
    "from time import sleep\n",
    "from IPython.display import clear_output\n",
    "import pyads\n",
    "\n",
    "remote_ip = '192.168.1.177'\n",
    "\n",
    "remote_ads = '192.168.1.177.1.1'\n",
    "\n",
    "with pyads.Connection(remote_ads, pyads.PORT_TC2PLC1, remote_ip) as plc:\n",
    "    #variable_list = get_var_list(plc)\n",
    "\n",
    "    variable_list = [\n",
    "        'MAIN.CENTER_DRUM_ENGAGE_POSITION',\n",
    "        'MAIN.LEFT_DRUM_ENGAGE_POSITION',\n",
    "        'MAIN.RIGHT_DRUM_SETPOINT_POSITION',\n",
    "        'MAIN.SPEED_SETPOINT',\n",
    "        'MAIN.TEMPERATURE_SETPOINT',\n",
    "        'MAIN.WORK_POSITION'\n",
    "    ]\n",
    "    dump = get_vars_from_plc(plc,variable_list)    \n",
    "    container = VariableContainer(plc)\n",
    "    \n",
    "    for v in dump:\n",
    "        container.add_to_container(PlcVariable(name=v,value=dump[v],plc=plc))\n",
    "\n",
    "    while True:\n",
    "        container.update_variables()\n",
    "        #container.show_container()\n",
    "        sleep(1)\n",
    "    "
   ]
  },
  {
   "cell_type": "code",
   "execution_count": 7,
   "metadata": {},
   "outputs": [
    {
     "data": {
      "text/plain": [
       "'18:37:12'"
      ]
     },
     "execution_count": 7,
     "metadata": {},
     "output_type": "execute_result"
    }
   ],
   "source": [
    "import datetime\n",
    "datetime.datetime.today().strftime('%H:%M:%S')"
   ]
  },
  {
   "cell_type": "code",
   "execution_count": 8,
   "metadata": {},
   "outputs": [],
   "source": [
    "class TimeStamp:\n",
    "\n",
    "    def get_time_stamp(self):\n",
    "        return datetime.datetime.today().strftime('%H:%M:%S')\n",
    "\n",
    "    def get_datetime_stamp(self):\n",
    "        return datetime.datetime.today().strftime('%c')"
   ]
  },
  {
   "cell_type": "code",
   "execution_count": 9,
   "metadata": {},
   "outputs": [
    {
     "data": {
      "text/plain": [
       "'18:37:14'"
      ]
     },
     "execution_count": 9,
     "metadata": {},
     "output_type": "execute_result"
    }
   ],
   "source": [
    "TimeStamp().get_time_stamp()"
   ]
  },
  {
   "cell_type": "code",
   "execution_count": 10,
   "metadata": {},
   "outputs": [],
   "source": [
    "class Test:\n",
    "\n",
    "    def __init__(self) -> None:\n",
    "        self.counter = 0\n",
    "        self.init = self.counter + 1\n",
    "\n",
    "    def __str__(self):\n",
    "        return str(self.init)\n",
    "\n",
    "    def get_init(self):\n",
    "        self\n",
    "        return self.init"
   ]
  },
  {
   "cell_type": "code",
   "execution_count": 11,
   "metadata": {},
   "outputs": [
    {
     "data": {
      "text/plain": [
       "1"
      ]
     },
     "execution_count": 11,
     "metadata": {},
     "output_type": "execute_result"
    }
   ],
   "source": [
    "t = Test()\n",
    "t.get_init()\n",
    "t.get_init()"
   ]
  },
  {
   "cell_type": "code",
   "execution_count": null,
   "metadata": {},
   "outputs": [],
   "source": []
  }
 ],
 "metadata": {
  "interpreter": {
   "hash": "31f2aee4e71d21fbe5cf8b01ff0e069b9275f58929596ceb00d14d90e3e16cd6"
  },
  "kernelspec": {
   "display_name": "Python 3.8.10 64-bit",
   "name": "python3"
  },
  "language_info": {
   "codemirror_mode": {
    "name": "ipython",
    "version": 3
   },
   "file_extension": ".py",
   "mimetype": "text/x-python",
   "name": "python",
   "nbconvert_exporter": "python",
   "pygments_lexer": "ipython3",
   "version": "3.8.10"
  },
  "orig_nbformat": 4
 },
 "nbformat": 4,
 "nbformat_minor": 2
}
